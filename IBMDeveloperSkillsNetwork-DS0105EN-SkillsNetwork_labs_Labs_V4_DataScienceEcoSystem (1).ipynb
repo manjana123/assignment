{
  "metadata": {
    "language_info": {
      "codemirror_mode": {
        "name": "python",
        "version": 3
      },
      "file_extension": ".py",
      "mimetype": "text/x-python",
      "name": "python",
      "nbconvert_exporter": "python",
      "pygments_lexer": "ipython3",
      "version": "3.8"
    },
    "kernelspec": {
      "name": "python",
      "display_name": "Python (Pyodide)",
      "language": "python"
    }
  },
  "nbformat_minor": 4,
  "nbformat": 4,
  "cells": [
    {
      "cell_type": "markdown",
      "source": "Data Science Tools and Ecosystem\n\n",
      "metadata": {}
    },
    {
      "cell_type": "markdown",
      "source": "In This Notebook Data Science tools and Ecosystems are explained\n\n",
      "metadata": {}
    },
    {
      "cell_type": "markdown",
      "source": "Some of the popular languages that \nData scientists use are: \n1. SQL\n2. Python\n3. R\n4. GitHub\n",
      "metadata": {}
    },
    {
      "cell_type": "markdown",
      "source": "\n\n\n\n\nSome of the commonly used Data science libraries are:\n1. NumPy\n2. Keras\n3. Pandas\n",
      "metadata": {}
    },
    {
      "cell_type": "markdown",
      "source": "Below are the some of the arithmatic expressions in Python\n1. Addition\n2. Subtraction\n3. Multipliacation\n4. Division",
      "metadata": {}
    },
    {
      "cell_type": "markdown",
      "source": "This is the simple expression to multiply and then add two integers\n\n",
      "metadata": {}
    },
    {
      "cell_type": "code",
      "source": "(3*4)+5",
      "metadata": {
        "trusted": true
      },
      "execution_count": 5,
      "outputs": [
        {
          "execution_count": 5,
          "output_type": "execute_result",
          "data": {
            "text/plain": "17"
          },
          "metadata": {}
        }
      ]
    },
    {
      "cell_type": "markdown",
      "source": "This will convert 200 minutes to hours",
      "metadata": {}
    },
    {
      "cell_type": "code",
      "source": "200/60\n",
      "metadata": {
        "trusted": true
      },
      "execution_count": 6,
      "outputs": [
        {
          "execution_count": 6,
          "output_type": "execute_result",
          "data": {
            "text/plain": "3.3333333333333335"
          },
          "metadata": {}
        }
      ]
    },
    {
      "cell_type": "markdown",
      "source": "Some of the popular languages that  Data scientists use are: \n1. SQL\n2. Python\n3. R\n4. GitHub\n\nObjectives: \n\n*Scala\n\n*Julia\n\n*JavaScript\n\n",
      "metadata": {}
    },
    {
      "cell_type": "markdown",
      "source": "## Author\n\n",
      "metadata": {}
    },
    {
      "cell_type": "markdown",
      "source": "Manjula",
      "metadata": {}
    }
  ]
}